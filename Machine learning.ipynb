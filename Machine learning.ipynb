{
 "cells": [
  {
   "cell_type": "markdown",
   "metadata": {},
   "source": [
    "<div style=\"border:solid green 2px; padding: 20px\">\n",
    "\n",
    "<b>Привет, Диана!</b>\n",
    "\n",
    "Меня зовут Ярослав П. и я буду проверять твой проект. Попробую помочь сделать тебе его еще лучше!\n",
    "\n",
    "Предлагаю общаться на «**ты**». Если это неприемлемо, обязательно напиши мне в комментариях — мы перейдем на «**вы**».\n",
    "\n",
    "Ниже ты найдешь мои комментарии - пожалуйста, не перемещай, не изменяй и не удаляй их. Я буду использовать цветовую разметку:\n",
    "\n",
    "<div class=\"alert alert-danger\">\n",
    "<b>Комментарий ревьюера:</b> Так выделены самые важные замечания. Без их отработки проект не будет принят. </div>\n",
    "\n",
    "<div class=\"alert alert-warning\">\n",
    "<b>Комментарий ревьюера:</b> Так выделены небольшие замечания или советы.\n",
    "\n",
    "</div>\n",
    "\n",
    "<div class=\"alert alert-success\">\n",
    "<b>Комментарий ревьюера:</b> Так я выделяю все остальные комментарии.</div>\n",
    "\n",
    "Давай работать над проектом в диалоге: если ты что-то меняешь в проекте или отвечаешь на мои комменатри — пиши об этом. Мне будет легче отследить изменения, если ты выделишь свои комментарии:\n",
    "<div class=\"alert alert-info\"> <b>Комментарий студента:</b> Например, вот так.</div>\n",
    "\n",
    "Всё это поможет выполнить повторную проверку твоего проекта оперативнее. \n",
    "    \n",
    "    \n",
    "### <span style=\"color:orange\">Обратная связь</span><a class=\"tocSkip\">\n",
    "\n",
    "- Проект выполнен на высоком уровне.\n",
    "- Это только начало моделирования, но ты уже делаешь успехи.\n",
    "- Хорошо реализован подбор гиперпараметров и тестирование моделей.\n",
    "- Один момент - проверка на мультиколлинеарность. Оставил комментарий. Также выбивает ошибку в одном месте.\n",
    "    \n",
    "### <span style=\"color:orange\">Обратная связь (v2)</span><a class=\"tocSkip\">\n",
    "\n",
    "- Проект практически готов! Оставил новый комментарий про мультиколлинеарность признаков и привел код с двойным циклом, посмотри, пожалуйста.\n",
    "    \n",
    "### <span style=\"color:orange\">Обратная связь (v3)</span><a class=\"tocSkip\">\n",
    "\n",
    "- Проект отлично доработан, спасибо за уделенное время!\n",
    "    \n",
    "Проект принят, успехов в дальнейшем обучении!"
   ]
  },
  {
   "cell_type": "markdown",
   "metadata": {},
   "source": [
    "# Рекомендация тарифов"
   ]
  },
  {
   "cell_type": "markdown",
   "metadata": {},
   "source": [
    "В вашем распоряжении данные о поведении клиентов, которые уже перешли на эти тарифы (из проекта курса «Статистический анализ данных»). Нужно построить модель для задачи классификации, которая выберет подходящий тариф. Предобработка данных не понадобится — вы её уже сделали.\n",
    "\n",
    "Постройте модель с максимально большим значением *accuracy*. Чтобы сдать проект успешно, нужно довести долю правильных ответов по крайней мере до 0.75. Проверьте *accuracy* на тестовой выборке самостоятельно."
   ]
  },
  {
   "cell_type": "markdown",
   "metadata": {},
   "source": [
    "# Описание данных\n",
    "Каждый объект в наборе данных — это информация о поведении одного пользователя за месяц. Известно:\n",
    "* сalls — количество звонков,\n",
    "* minutes — суммарная длительность звонков в минутах,\n",
    "* messages — количество sms-сообщений,\n",
    "* mb_used — израсходованный интернет-трафик в Мб,\n",
    "* is_ultra — каким тарифом пользовался в течение месяца («Ультра» — 1, «Смарт» — 0)"
   ]
  },
  {
   "cell_type": "markdown",
   "metadata": {},
   "source": [
    "<div class=\"alert alert-block alert-success\">\n",
    "<b>Комментарий ревьюера</b>\n",
    "\n",
    "Отличное введение.\n",
    "\n",
    "</div>\n",
    "\n",
    "<div class=\"alert alert-block alert-warning\">\n",
    "<b>Комментарий ревьюера</b>\n",
    "\n",
    "Также в начале полезно дать описание данных, с которыми предстоит работа и содержание/шаги проекта.\n",
    "\n",
    "</div>"
   ]
  },
  {
   "cell_type": "markdown",
   "metadata": {},
   "source": [
    "## Откройте и изучите файл"
   ]
  },
  {
   "cell_type": "markdown",
   "metadata": {},
   "source": [
    "Для начала импортируем все библиотеки, которые могут понадобиться в течение выполнения проекта."
   ]
  },
  {
   "cell_type": "code",
   "execution_count": 1,
   "metadata": {},
   "outputs": [],
   "source": [
    "import pandas as pd\n",
    "import seaborn as sns\n",
    "from sklearn.model_selection import train_test_split\n",
    "from sklearn.tree import DecisionTreeClassifier\n",
    "from sklearn.ensemble import RandomForestClassifier\n",
    "from sklearn.linear_model import LogisticRegression\n",
    "from sklearn.metrics import accuracy_score"
   ]
  },
  {
   "cell_type": "markdown",
   "metadata": {},
   "source": [
    "<div class=\"alert alert-block alert-warning\">\n",
    "<b>Комментарий ревьюера</b>\n",
    "\n",
    "Я заметил, что нумерация блоков с кодом была не с 1. Советую перед финальной отправкой проекта делать Kernel - Restart and Run All, это позволит проверить тетрадь на работоспособность и избежать лишних ошибок.\n",
    "\n",
    "</div>"
   ]
  },
  {
   "cell_type": "code",
   "execution_count": 2,
   "metadata": {},
   "outputs": [
    {
     "name": "stdout",
     "output_type": "stream",
     "text": [
      "<class 'pandas.core.frame.DataFrame'>\n",
      "RangeIndex: 3214 entries, 0 to 3213\n",
      "Data columns (total 5 columns):\n",
      "calls       3214 non-null float64\n",
      "minutes     3214 non-null float64\n",
      "messages    3214 non-null float64\n",
      "mb_used     3214 non-null float64\n",
      "is_ultra    3214 non-null int64\n",
      "dtypes: float64(4), int64(1)\n",
      "memory usage: 125.7 KB\n"
     ]
    }
   ],
   "source": [
    "df = pd.read_csv('/datasets/users_behavior.csv')\n",
    "df.info()"
   ]
  },
  {
   "cell_type": "markdown",
   "metadata": {},
   "source": [
    "В переменной df получаем таблицу, в которой собраны данные, описанные в задании.   \n",
    "На данном шаге уже можно понять, что за target мы возьмем столбец is_ultra, за features - все оставшиеся признаки."
   ]
  },
  {
   "cell_type": "markdown",
   "metadata": {},
   "source": [
    "<div class=\"alert alert-block alert-success\">\n",
    "<b>Комментарий ревьюера</b>\n",
    "\n",
    "Хороший первый взгляд на данные. \n",
    "\n",
    "</div>"
   ]
  },
  {
   "cell_type": "markdown",
   "metadata": {},
   "source": [
    "<div class=\"alert alert-block alert-warning\">\n",
    "<b>Комментарий ревьюера</b>\n",
    "\n",
    "Также в начале полезно провести небольшой анализ данных. Нет ли каких-либо аномальных значений, как распределен целевой признак.\n",
    "\n",
    "</div>\n"
   ]
  },
  {
   "cell_type": "markdown",
   "metadata": {},
   "source": [
    "<div class=\"alert alert-block alert-danger\">\n",
    "<b>Комментарий ревьюера</b>\n",
    "\n",
    "<s>Также прошу оценить мультиколлинеарность признаков (когда признаки модели имеют сильную связь друг с другом). Стоит найти коффиценты корреляции, построить график скатерплот. После этого нужно принять решение о включении в модель одного из признаков. В общем случае такие признаки лишь мешают друг другу и утяжеляют модель.  Здесь стоит экспериментировать (эксперименты - основа нашего дела 😉). Если же модели дают одинаковые результаты что с двумя признаками (calls и minutes), что с одним из них, то тогда точно стоит один из них дропнуть. Меньше признаков - легче модель, быстрее обучается, быстрее предсказывает, что всегда хорошо.\n",
    "\n",
    "</div>\n"
   ]
  },
  {
   "cell_type": "code",
   "execution_count": 3,
   "metadata": {},
   "outputs": [
    {
     "name": "stdout",
     "output_type": "stream",
     "text": [
      "Pearson coeficient:  0.206954638121695\n"
     ]
    },
    {
     "data": {
      "image/png": "[encoded data removed]",
      "text/plain": [
       "<Figure size 432x288 with 1 Axes>"
      ]
     },
     "metadata": {
      "needs_background": "light"
     },
     "output_type": "display_data"
    }
   ],
   "source": [
    "df.groupby('minutes')['is_ultra'].mean().plot(x = 'minutes', y = 'is_ultra', style = 'o', grid = True)\n",
    "print('Pearson coeficient: ',df['is_ultra'].corr(df['minutes']))"
   ]
  },
  {
   "cell_type": "code",
   "execution_count": 4,
   "metadata": {},
   "outputs": [
    {
     "name": "stdout",
     "output_type": "stream",
     "text": [
      "Pearson coeficient:  0.2071215589860754\n"
     ]
    },
    {
     "data": {
      "image/png": "[encoded data removed]",
      "text/plain": [
       "<Figure size 432x288 with 1 Axes>"
      ]
     },
     "metadata": {
      "needs_background": "light"
     },
     "output_type": "display_data"
    }
   ],
   "source": [
    "df.groupby('calls')['is_ultra'].mean().plot(x = 'calls', y = 'is_ultra', style = 'o', grid = True)\n",
    "print('Pearson coeficient: ',df['is_ultra'].corr(df['calls']))"
   ]
  },
  {
   "cell_type": "code",
   "execution_count": 5,
   "metadata": {},
   "outputs": [
    {
     "name": "stdout",
     "output_type": "stream",
     "text": [
      "Pearson coeficient:  0.20382983853553618\n"
     ]
    },
    {
     "data": {
      "image/png": "[encoded data removed]",
      "text/plain": [
       "<Figure size 432x288 with 1 Axes>"
      ]
     },
     "metadata": {
      "needs_background": "light"
     },
     "output_type": "display_data"
    }
   ],
   "source": [
    "df.groupby('messages')['is_ultra'].mean().plot(x = 'messages', y = 'is_ultra', style = 'o', grid = True)\n",
    "print('Pearson coeficient: ',df['is_ultra'].corr(df['messages']))"
   ]
  },
  {
   "cell_type": "code",
   "execution_count": 6,
   "metadata": {},
   "outputs": [
    {
     "name": "stdout",
     "output_type": "stream",
     "text": [
      "Pearson coeficient:  0.1985676456197424\n"
     ]
    },
    {
     "data": {
      "image/png": "[encoded data removed]",
      "text/plain": [
       "<Figure size 432x288 with 1 Axes>"
      ]
     },
     "metadata": {
      "needs_background": "light"
     },
     "output_type": "display_data"
    }
   ],
   "source": [
    "df.groupby('mb_used')['is_ultra'].mean().plot(x = 'mb_used', y = 'is_ultra', style = 'o', grid = True)\n",
    "print('Pearson coeficient: ',df['is_ultra'].corr(df['mb_used']))"
   ]
  },
  {
   "cell_type": "markdown",
   "metadata": {},
   "source": [
    "Просмотрев коэффициенты Пирсона для каждого из признаков, можно сказать, что корреляция у признака mb_used, меньше чем у остальных, но при исключении этого признака из выборки значение accuracy снизилось для всей выборки."
   ]
  },
  {
   "cell_type": "markdown",
   "metadata": {},
   "source": [
    "<div class=\"alert alert-block alert-danger\">\n",
    "<b>Комментарий ревьюера</b>\n",
    "\n",
    "<s>Обрати внимание, что находить корреляцию Пирсона между категориальной величиной (наш таргет) и количественными величинами (все остальные) не совсем корректно, так как она предназначен для кол. переменных. Я имел ввиду оценить связь именно признаков между собой - попробуй такой метод:\n",
    "    \n",
    ">`df.corr()`\n",
    "\n",
    "</div>\n"
   ]
  },
  {
   "cell_type": "code",
   "execution_count": 7,
   "metadata": {},
   "outputs": [
    {
     "data": {
      "text/plain": [
       "<matplotlib.axes._subplots.AxesSubplot at 0x7f312736ff10>"
      ]
     },
     "execution_count": 7,
     "metadata": {},
     "output_type": "execute_result"
    },
    {
     "data": {
      "image/png": "[encoded data removed]",
      "text/plain": [
       "<Figure size 432x288 with 2 Axes>"
      ]
     },
     "metadata": {
      "needs_background": "light"
     },
     "output_type": "display_data"
    }
   ],
   "source": [
    "df.corr()\n",
    "sns.heatmap(df.corr())"
   ]
  },
  {
   "cell_type": "markdown",
   "metadata": {},
   "source": [
    "Посмотрев зависимость между признаками, очень хорошо видно, что самая большая зависимость между показателями calls и minutes. Можно попробовать убрать именно один из этих параметров. После исключения признака minutes показатели accuracy по всем моделям выросли."
   ]
  },
  {
   "cell_type": "markdown",
   "metadata": {},
   "source": [
    "<div class=\"alert alert-block alert-success\">\n",
    "<b>Комментарий ревьюера (v3)</b>\n",
    "\n",
    "Молодец, что провела эксперименты!\n",
    "\n",
    "</div>\n"
   ]
  },
  {
   "cell_type": "code",
   "execution_count": 8,
   "metadata": {},
   "outputs": [
    {
     "data": {
      "text/plain": [
       "0    2229\n",
       "1     985\n",
       "Name: is_ultra, dtype: int64"
      ]
     },
     "execution_count": 8,
     "metadata": {},
     "output_type": "execute_result"
    }
   ],
   "source": [
    "df['is_ultra'].value_counts()"
   ]
  },
  {
   "cell_type": "markdown",
   "metadata": {},
   "source": [
    "Аномальных значений в графе принадлежности к тарифу нет."
   ]
  },
  {
   "cell_type": "markdown",
   "metadata": {},
   "source": [
    "## Разбейте данные на выборки"
   ]
  },
  {
   "cell_type": "code",
   "execution_count": 9,
   "metadata": {},
   "outputs": [
    {
     "name": "stdout",
     "output_type": "stream",
     "text": [
      "Size of trainig sample: 1928\n",
      "Size of validation sample: 643\n",
      "Size of test sample: 643\n"
     ]
    }
   ],
   "source": [
    "df_train, df_valid = train_test_split(df, test_size=0.4, random_state=12345)\n",
    "df_valid, df_test =  train_test_split(df_valid, test_size=0.5, random_state=12345)\n",
    "\n",
    "print('Size of trainig sample:', df_train.shape[0])\n",
    "print('Size of validation sample:', df_valid.shape[0])\n",
    "print('Size of test sample:', df_test.shape[0])"
   ]
  },
  {
   "cell_type": "markdown",
   "metadata": {},
   "source": [
    "Разбиваем данные на три выборки: тренировочная (для обучения модели), валидационная и тестовая. Примерно в отношении 3:1:1."
   ]
  },
  {
   "cell_type": "code",
   "execution_count": 10,
   "metadata": {},
   "outputs": [],
   "source": [
    "features_train = df_train.drop(['is_ultra', 'minutes'], axis = 1)\n",
    "target_train = df_train['is_ultra']\n",
    "\n",
    "features_valid = df_valid.drop(['is_ultra', 'minutes'], axis = 1)\n",
    "target_valid = df_valid['is_ultra']\n",
    "\n",
    "features_test = df_test.drop(['is_ultra', 'minutes'], axis = 1)\n",
    "target_test = df_test['is_ultra']"
   ]
  },
  {
   "cell_type": "markdown",
   "metadata": {},
   "source": [
    "Каждую выборку еще разбиваем на целевую и признаки."
   ]
  },
  {
   "cell_type": "markdown",
   "metadata": {},
   "source": [
    "<div class=\"alert alert-block alert-success\">\n",
    "<b>Комментарий ревьюера</b>\n",
    "\n",
    "Хорошо, данные разделены. Молодец, что проконтролировала размеры выборок.\n",
    "\n",
    "</div>\n"
   ]
  },
  {
   "cell_type": "markdown",
   "metadata": {},
   "source": [
    "## Исследуйте модели"
   ]
  },
  {
   "cell_type": "code",
   "execution_count": 11,
   "metadata": {},
   "outputs": [
    {
     "name": "stdout",
     "output_type": "stream",
     "text": [
      "for the model DecisionTreeClassifier\n",
      "Max_depth =  5\n",
      "Best accuracy =  0.7900466562986003\n"
     ]
    }
   ],
   "source": [
    "max_depth = 0\n",
    "best_acc_des_tree = 0\n",
    "for depth in range(1, 10):\n",
    "    model = DecisionTreeClassifier(random_state=12345, max_depth=depth)\n",
    "    model.fit(features_train, target_train)\n",
    "    predictions_valid = model.predict(features_valid)  \n",
    "    result = accuracy_score(target_valid, predictions_valid)\n",
    "    if result > best_acc_des_tree:\n",
    "        best_acc_des_tree = result\n",
    "        max_depth = depth\n",
    "print(\"for the model DecisionTreeClassifier\")\n",
    "print(\"Max_depth = \", max_depth)\n",
    "print(\"Best accuracy = \", best_acc_des_tree)"
   ]
  },
  {
   "cell_type": "markdown",
   "metadata": {},
   "source": [
    "<div class=\"alert alert-block alert-danger\">\n",
    "<b>Комментарий ревьюера</b>\n",
    "\n",
    "<s>Тут выбивает ошибку :( Проверь, пожалуйста, в чем дело.\n",
    "\n",
    "</div>\n"
   ]
  },
  {
   "cell_type": "markdown",
   "metadata": {},
   "source": [
    "Исправила ошибку, не везде заменила название переменной"
   ]
  },
  {
   "cell_type": "markdown",
   "metadata": {},
   "source": [
    "<div class=\"alert alert-block alert-success\">\n",
    "<b>Комментарий ревьюера (v2)</b>\n",
    "\n",
    "👍\n",
    "\n",
    "</div>\n"
   ]
  },
  {
   "cell_type": "markdown",
   "metadata": {},
   "source": [
    "Исследуем модель решающего дерева."
   ]
  },
  {
   "cell_type": "code",
   "execution_count": 13,
   "metadata": {},
   "outputs": [
    {
     "name": "stdout",
     "output_type": "stream",
     "text": [
      "Для лучшей модели RandomForestClassifier\n",
      "Best estimators =  40\n",
      "Best accuracy =  0.7900466562986003\n"
     ]
    }
   ],
   "source": [
    "best_est = 0\n",
    "best_result_rand_tree = 0\n",
    "for est in range(1, 50):\n",
    "    model = RandomForestClassifier(random_state=12345, n_estimators=est) # обучите модель с заданным количеством деревьев\n",
    "    model.fit(features_train, target_train) # обучите модель на тренировочной выборке\n",
    "    result = model.score(features_valid, target_valid) # посчитайте качество модели на валидационной выборке\n",
    "    if result > best_result_rand_tree:        \n",
    "        best_est = est\n",
    "        best_result_rand_tree = result\n",
    "print(\"Для лучшей модели RandomForestClassifier\")\n",
    "print(\"Best estimators = \", best_est)\n",
    "print(\"Best accuracy = \", best_result_rand_tree)"
   ]
  },
  {
   "cell_type": "markdown",
   "metadata": {},
   "source": [
    "<div class=\"alert alert-block alert-warning\">\n",
    "<b>Комментарий ревьюера</b>\n",
    "\n",
    "Также стоило настроить глубину дерева для случайного леса, то есть пройтись двойным циклом.\n",
    "\n",
    "</div>\n"
   ]
  },
  {
   "cell_type": "markdown",
   "metadata": {},
   "source": [
    "<div class=\"alert alert-info\"> <b>Комментарий студента:</b> \n",
    "    К сожалению не очень понимаю, как это сделать, было бы очень здорово, если бы ты подсказал, как именно надо сделать(возможно именно с фрагментом кода)  \n",
    "заранее спасибо!!</div>\n"
   ]
  },
  {
   "cell_type": "markdown",
   "metadata": {},
   "source": [
    "<div class=\"alert alert-block alert-warning\">\n",
    "<b>Комментарий ревьюера (v2)</b>\n",
    "\n",
    "Без проблем :)\n",
    "\n",
    "</div>\n"
   ]
  },
  {
   "cell_type": "code",
   "execution_count": 12,
   "metadata": {},
   "outputs": [
    {
     "name": "stdout",
     "output_type": "stream",
     "text": [
      "for the best model of RandomForestClassifier\n",
      "Best estimators =  30\n",
      "Best depth =  6\n",
      "Best accuracy =  0.7962674961119751\n"
     ]
    }
   ],
   "source": [
    "best_est = 0\n",
    "best_depth = 0\n",
    "best_result_rand_tree = 0\n",
    "for est in range(10, 101, 10):\n",
    "    for depth in range(1, 10):\n",
    "        model = RandomForestClassifier(random_state=12345, n_estimators=est, max_depth=depth) \n",
    "        model.fit(features_train, target_train) \n",
    "        result = model.score(features_valid, target_valid) \n",
    "        if result > best_result_rand_tree:        \n",
    "            best_est = est\n",
    "            best_depth = depth\n",
    "            best_result_rand_tree = result\n",
    "print(\"for the best model of RandomForestClassifier\")\n",
    "print(\"Best estimators = \", best_est)\n",
    "print(\"Best depth = \", best_depth)\n",
    "print(\"Best accuracy = \", best_result_rand_tree)"
   ]
  },
  {
   "cell_type": "markdown",
   "metadata": {},
   "source": [
    "Исследуем модель случайного леса."
   ]
  },
  {
   "cell_type": "code",
   "execution_count": 13,
   "metadata": {},
   "outputs": [
    {
     "name": "stdout",
     "output_type": "stream",
     "text": [
      "for the model LogisticRegression\n",
      "Best accuracy =  0.7511664074650077\n"
     ]
    },
    {
     "name": "stderr",
     "output_type": "stream",
     "text": [
      "/opt/conda/lib/python3.7/site-packages/sklearn/linear_model/logistic.py:432: FutureWarning: Default solver will be changed to 'lbfgs' in 0.22. Specify a solver to silence this warning.\n",
      "  FutureWarning)\n"
     ]
    }
   ],
   "source": [
    "model = LogisticRegression(random_state=12345) \n",
    "model.fit(features_train, target_train) \n",
    "result = model.score(features_valid, target_valid) \n",
    "\n",
    "print(\"for the model LogisticRegression\")\n",
    "print(\"Best accuracy = \", result)"
   ]
  },
  {
   "cell_type": "markdown",
   "metadata": {},
   "source": [
    "Исследуем модель Логической регрессии."
   ]
  },
  {
   "cell_type": "markdown",
   "metadata": {},
   "source": [
    "### Выводы"
   ]
  },
  {
   "cell_type": "markdown",
   "metadata": {},
   "source": [
    "Проанализирова все три вида модели можно прийти к выводу, что:\n",
    "* У модели решающего дерева при 7 деревьях accuracy =  0.8055987558320373\n",
    "* У модели случайного леса при 41 дереве accuracy =  0.8569206842923794\n",
    "* У модели логической регрессии accuracy = 0.7589424572317263\n",
    "\n",
    "Таким образом стоит выбрать модель случайного леса с параметром n_extimators = 41."
   ]
  },
  {
   "cell_type": "markdown",
   "metadata": {},
   "source": [
    "<div class=\"alert alert-block alert-success\">\n",
    "<b>Комментарий ревьюера</b>\n",
    "\n",
    "Отлично выполненный шаг.\n",
    "\n",
    "</div>\n"
   ]
  },
  {
   "cell_type": "markdown",
   "metadata": {},
   "source": [
    "## Проверьте модель на тестовой выборке"
   ]
  },
  {
   "cell_type": "markdown",
   "metadata": {},
   "source": [
    "<div class=\"alert alert-block alert-warning\">\n",
    "<b>Комментарий ревьюера</b>\n",
    "\n",
    "Небольшой совет. Мы нашли лучшие параметры для наших моделей на валидационной выборке. Теперь стоит с найдеными параметрами обучить модели на выборке трейн+валид, и потом прогнать на тесте. Так показания должны улучшиться (но не факт 😉), так как наши модели обучатся на большем количестве данных.\n",
    "\n",
    "Логика такая. В нашем случае у нас не было отдельного датасета для тестирования, мы отрезали от основного небольшую часть (отложенная выборка). То есть остальные данные мы используем для обучения. Если обучить только на обучающей, что у нас полностью теряются валидационные данные - мы их не используем в модели, но они то у нас есть, жаль их выбрасывать.\n",
    "\n",
    "</div>\n"
   ]
  },
  {
   "cell_type": "code",
   "execution_count": 14,
   "metadata": {},
   "outputs": [
    {
     "name": "stdout",
     "output_type": "stream",
     "text": [
      "Accuracy for the test sample is  0.8009950248756219\n"
     ]
    }
   ],
   "source": [
    "df_train, df_test = train_test_split(df, test_size=0.25, random_state=12345)\n",
    "features_train = df_train.drop(['is_ultra', 'minutes'],  axis = 1)\n",
    "target_train = df_train['is_ultra']\n",
    "\n",
    "\n",
    "features_test = df_test.drop(['is_ultra', 'minutes'], axis = 1)\n",
    "target_test = df_test['is_ultra']\n",
    "\n",
    "\n",
    "model = RandomForestClassifier(random_state=12345, n_estimators=30, max_depth = 6)\n",
    "model.fit(features_train, target_train) \n",
    "predictions = model.predict(features_test)\n",
    "accuracy = accuracy_score(target_test, predictions)\n",
    "print(\"Accuracy for the test sample is \", accuracy)"
   ]
  },
  {
   "cell_type": "markdown",
   "metadata": {},
   "source": [
    "<div class=\"alert alert-block alert-success\">\n",
    "<b>Комментарий ревьюера (v2)</b>\n",
    "\n",
    "Согласен с решением, что решила снова разделить данные. Однако тестовая выборка получилась большевата - обычно берут 20-25%.\n",
    "\n",
    "</div>\n"
   ]
  },
  {
   "cell_type": "markdown",
   "metadata": {},
   "source": [
    "<div class=\"alert alert-block alert-warning\">\n",
    "<b>Комментарий ревьюера (v2)</b>\n",
    "\n",
    "Прошу прощения, что в первый раз не заметил. Но обрати внимание, что в переменной est лежит последнее значение из цикла, а не лучшее. Сейчас там лежит 100. Нужно использовать переменную best_est.\n",
    "\n",
    "</div>\n"
   ]
  },
  {
   "cell_type": "markdown",
   "metadata": {},
   "source": [
    "<div class=\"alert alert-block alert-success\">\n",
    "<b>Комментарий ревьюера (v2)</b>\n",
    "\n",
    "👍\n",
    "\n",
    "</div>\n"
   ]
  },
  {
   "cell_type": "code",
   "execution_count": 21,
   "metadata": {},
   "outputs": [
    {
     "data": {
      "text/plain": [
       "100"
      ]
     },
     "execution_count": 21,
     "metadata": {},
     "output_type": "execute_result"
    }
   ],
   "source": [
    "est"
   ]
  },
  {
   "cell_type": "markdown",
   "metadata": {},
   "source": [
    "## (бонус) Проверьте модели на адекватность"
   ]
  },
  {
   "cell_type": "markdown",
   "metadata": {},
   "source": [
    "Посмотрим на процентное соотношение количество пользователей каждого тарифа."
   ]
  },
  {
   "cell_type": "code",
   "execution_count": 14,
   "metadata": {},
   "outputs": [
    {
     "data": {
      "text/plain": [
       "0    0.693528\n",
       "1    0.306472\n",
       "Name: is_ultra, dtype: float64"
      ]
     },
     "execution_count": 14,
     "metadata": {},
     "output_type": "execute_result"
    }
   ],
   "source": [
    "df['is_ultra'].value_counts(normalize = True)"
   ]
  },
  {
   "cell_type": "markdown",
   "metadata": {},
   "source": [
    "Получается, что на тариф \"Смарт\" приходится гораздо больше процентов - 69%. Если бы наша моделя была не очень адекватной и каждый раз предсказывала одно и то же значение (в лучше случае \"Смарт\"), то мы бы попали в 69% случаев. Наша же модель показала результат 79,6%, что значительно больше. Значит наша модель вполне адекватна."
   ]
  },
  {
   "cell_type": "markdown",
   "metadata": {},
   "source": [
    "<div class=\"alert alert-block alert-success\">\n",
    "<b>Комментарий ревьюера</b>\n",
    "\n",
    "Ты отлично разобралась с проверкой на адекватность, молодец! <br> Также проверку на адекватность можно реализовывать с помощью <a href=\"https://scikit-learn.org/stable/modules/generated/sklearn.dummy.DummyClassifier.html\"> DummyClassifier </a>. \n",
    "\n",
    "</div>\n"
   ]
  },
  {
   "cell_type": "markdown",
   "metadata": {},
   "source": [
    "<div class=\"alert alert-block alert-danger\">\n",
    "<b>Комментарий ревьюера</b>\n",
    "\n",
    "<s>Также было бы здорово оставить общий вывод - что было сделано, какие модели испытаны, какие результаты получили.\n",
    "\n",
    "</div>\n"
   ]
  },
  {
   "cell_type": "markdown",
   "metadata": {},
   "source": [
    "## Общий вывод"
   ]
  },
  {
   "cell_type": "markdown",
   "metadata": {},
   "source": [
    "В данном проекте было необходимо обучить модель для прогнозирования выбора тарифа пользователями в зависимости от нескольких параметров. Для начала были изучены зависимости выбора тарифа от различных показателей (количество звонков, мегабайты интернета и тд), в ходе изучения и пробы различных вариантов было получено наибольшее accuracy тогда, когда в расчет взяты все параметры представленные изначально в таблице.\n",
    "\n",
    "Далее в ходе выпонения проекта были опробованы 3 варианта обучения модели - модель решающего дерева, модель случайного леса и модель логической регрессии. После изучения результатов рабоыт каждой из модели. Наиболее успешной оказалась модель случайного леса, показавашая результата accuracy равный 8.5. Далее эта модель прошла проверку на тестировочной выборке (объединенной тестирвоочной, оставленной изначально, и валидационной), показав результат 7.92. Кроме того, модель прошла проверку на адекватность."
   ]
  },
  {
   "cell_type": "markdown",
   "metadata": {},
   "source": [
    "<div class=\"alert alert-block alert-success\">\n",
    "<b>Комментарий ревьюера (v2)</b>\n",
    "\n",
    "Отлично!\n",
    "\n",
    "</div>\n"
   ]
  },
  {
   "cell_type": "markdown",
   "metadata": {},
   "source": [
    "## Чек-лист готовности проекта"
   ]
  },
  {
   "cell_type": "markdown",
   "metadata": {},
   "source": [
    "Поставьте 'x' в выполненных пунктах. Далее нажмите Shift+Enter."
   ]
  },
  {
   "cell_type": "markdown",
   "metadata": {},
   "source": [
    "- [x] Jupyter Notebook открыт\n",
    "- [x] Весь код исполняется без ошибок\n",
    "- [x] Ячейки с кодом расположены в порядке исполнения\n",
    "- [x] Выполнено задание 1: данные загружены и изучены\n",
    "- [x] Выполнено задание 2: данные разбиты на три выборки\n",
    "- [x] Выполнено задание 3: проведено исследование моделей\n",
    "    - [x] Рассмотрено больше одной модели\n",
    "    - [x] Рассмотрено хотя бы 3 значения гипепараметров для какой-нибудь модели\n",
    "    - [x] Написаны выводы по результатам исследования\n",
    "- [x] Выполнено задание 3: Проведено тестирование\n",
    "- [x] Удалось достичь accuracy не меньше 0.75\n"
   ]
  },
  {
   "cell_type": "code",
   "execution_count": null,
   "metadata": {},
   "outputs": [],
   "source": []
  }
 ],
 "metadata": {
  "ExecuteTimeLog": [
   {
    "duration": 345,
    "start_time": "2021-06-29T18:41:48.463Z"
   },
   {
    "duration": 1398,
    "start_time": "2021-06-29T18:41:53.418Z"
   },
   {
    "duration": 25,
    "start_time": "2021-06-29T18:41:54.818Z"
   },
   {
    "duration": 435,
    "start_time": "2021-06-29T18:41:55.466Z"
   },
   {
    "duration": 272,
    "start_time": "2021-06-29T18:41:55.903Z"
   },
   {
    "duration": 308,
    "start_time": "2021-06-29T18:41:56.179Z"
   },
   {
    "duration": 299,
    "start_time": "2021-06-29T18:41:56.490Z"
   },
   {
    "duration": 417,
    "start_time": "2021-06-29T18:41:57.487Z"
   },
   {
    "duration": 85,
    "start_time": "2021-06-29T18:42:16.695Z"
   },
   {
    "duration": 322,
    "start_time": "2021-06-29T18:42:21.464Z"
   },
   {
    "duration": 389,
    "start_time": "2021-06-29T18:42:26.854Z"
   },
   {
    "duration": 348,
    "start_time": "2021-06-30T06:52:17.732Z"
   },
   {
    "duration": 1565,
    "start_time": "2021-06-30T06:52:26.236Z"
   },
   {
    "duration": 27,
    "start_time": "2021-06-30T06:52:27.804Z"
   },
   {
    "duration": 313,
    "start_time": "2021-06-30T06:52:28.115Z"
   },
   {
    "duration": 282,
    "start_time": "2021-06-30T06:52:28.431Z"
   },
   {
    "duration": 296,
    "start_time": "2021-06-30T06:52:28.716Z"
   },
   {
    "duration": 287,
    "start_time": "2021-06-30T06:52:29.015Z"
   },
   {
    "duration": 398,
    "start_time": "2021-06-30T06:52:29.936Z"
   },
   {
    "duration": 9,
    "start_time": "2021-06-30T06:52:30.784Z"
   },
   {
    "duration": 11,
    "start_time": "2021-06-30T06:52:31.752Z"
   },
   {
    "duration": 9,
    "start_time": "2021-06-30T06:52:32.359Z"
   },
   {
    "duration": 126,
    "start_time": "2021-06-30T06:52:33.975Z"
   },
   {
    "duration": 4819,
    "start_time": "2021-06-30T06:52:35.431Z"
   },
   {
    "duration": 12741,
    "start_time": "2021-06-30T06:52:40.253Z"
   },
   {
    "duration": 20,
    "start_time": "2021-06-30T06:52:52.998Z"
   },
   {
    "duration": 216,
    "start_time": "2021-06-30T06:52:53.020Z"
   },
   {
    "duration": 190,
    "start_time": "2021-06-30T06:53:15.607Z"
   },
   {
    "duration": 193,
    "start_time": "2021-06-30T06:53:18.783Z"
   },
   {
    "duration": 150,
    "start_time": "2021-06-30T06:54:11.602Z"
   },
   {
    "duration": 108,
    "start_time": "2021-06-30T06:54:19.511Z"
   },
   {
    "duration": 1140,
    "start_time": "2021-12-10T13:30:41.035Z"
   },
   {
    "duration": 23,
    "start_time": "2021-12-10T13:30:44.389Z"
   },
   {
    "duration": 190,
    "start_time": "2021-12-10T13:31:21.427Z"
   },
   {
    "duration": 164,
    "start_time": "2021-12-10T13:32:20.583Z"
   },
   {
    "duration": 182,
    "start_time": "2021-12-10T13:32:46.689Z"
   },
   {
    "duration": 169,
    "start_time": "2021-12-10T13:33:19.004Z"
   },
   {
    "duration": 290,
    "start_time": "2021-12-10T13:34:53.345Z"
   },
   {
    "duration": 6,
    "start_time": "2021-12-10T13:35:46.361Z"
   },
   {
    "duration": 8,
    "start_time": "2021-12-10T13:37:17.712Z"
   },
   {
    "duration": 6,
    "start_time": "2021-12-10T13:38:50.175Z"
   },
   {
    "duration": 100,
    "start_time": "2021-12-10T13:41:00.024Z"
   },
   {
    "duration": 7914,
    "start_time": "2021-12-10T13:42:05.600Z"
   },
   {
    "duration": 13,
    "start_time": "2021-12-10T13:42:54.907Z"
   },
   {
    "duration": 70,
    "start_time": "2021-12-10T13:45:14.018Z"
   }
  ],
  "kernelspec": {
   "display_name": "Python 3",
   "language": "python",
   "name": "python3"
  },
  "language_info": {
   "codemirror_mode": {
    "name": "ipython",
    "version": 3
   },
   "file_extension": ".py",
   "mimetype": "text/x-python",
   "name": "python",
   "nbconvert_exporter": "python",
   "pygments_lexer": "ipython3",
   "version": "3.7.8"
  },
  "toc": {
   "base_numbering": 1,
   "nav_menu": {},
   "number_sections": true,
   "sideBar": true,
   "skip_h1_title": true,
   "title_cell": "Table of Contents",
   "title_sidebar": "Contents",
   "toc_cell": false,
   "toc_position": {},
   "toc_section_display": true,
   "toc_window_display": false
  }
 },
 "nbformat": 4,
 "nbformat_minor": 2
}
